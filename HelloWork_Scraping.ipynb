{
 "cells": [
  {
   "cell_type": "code",
   "execution_count": 70,
   "metadata": {},
   "outputs": [],
   "source": [
    "# ハローワークから求人情報をスクレイピングする\n",
    "\n",
    "from selenium import webdriver\n",
    "from selenium.webdriver.support.ui import Select\n",
    "import time\n",
    "from bs4 import BeautifulSoup"
   ]
  },
  {
   "cell_type": "code",
   "execution_count": 71,
   "metadata": {},
   "outputs": [],
   "source": [
    "url = \"https://www.hellowork.mhlw.go.jp/\"\n",
    "\n",
    "# driver = webdriver.Chrome()\n",
    "DRIVER_PATH = 'D:\\source\\py\\ChromeWebDriver\\chromedriver_win32/chromedriver.exe'\n",
    "driver = webdriver.Chrome(executable_path=DRIVER_PATH)\n",
    "driver.get(url)\n",
    "time.sleep(1)"
   ]
  },
  {
   "cell_type": "code",
   "execution_count": 72,
   "metadata": {},
   "outputs": [],
   "source": [
    "driver.find_element_by_class_name(\"retrieval_icn\").click()\n",
    "time.sleep(1)"
   ]
  },
  {
   "cell_type": "code",
   "execution_count": 73,
   "metadata": {},
   "outputs": [],
   "source": [
    "element = driver.find_element_by_id(\"ID_tDFK1CmbBox\")\n",
    "Select(element).select_by_value(\"40\") #福岡\n",
    "# Select(element).select_by_value(\"41\") #佐賀\n",
    "# Select(element).select_by_value(\"42\") #長崎\n",
    "time.sleep(1)"
   ]
  },
  {
   "cell_type": "code",
   "execution_count": 74,
   "metadata": {},
   "outputs": [],
   "source": [
    "buttons = driver.find_elements_by_css_selector(\"input.button\");\n",
    "buttons[1].click()\n",
    "time.sleep(1)"
   ]
  },
  {
   "cell_type": "code",
   "execution_count": 75,
   "metadata": {
    "scrolled": true
   },
   "outputs": [],
   "source": [
    "element = driver.find_element_by_id(\"ID_rank1CodeMulti\")\n",
    "\n",
    "# 市町村コード\n",
    "# http://www13.plala.or.jp/bigdata/municipal_code_2.html#40\n",
    "Select(element).select_by_value(\"40131\") #東区\n",
    "Select(element).select_by_value(\"40132\") #博多区\n",
    "Select(element).select_by_value(\"40133\") #中央区\n",
    "Select(element).select_by_value(\"40134\") #南区\n",
    "Select(element).select_by_value(\"40135\") #西区\n",
    "# Select(element).select_by_value(\"40136\") #城南区\n",
    "# Select(element).select_by_value(\"40137\") #早良区\n",
    "# Select(element).select_by_value(\"41201\") #佐賀市\n",
    "# Select(element).select_by_value(\"41202\") #鳥栖市\n",
    "# Select(element).select_by_value(\"42202\") #佐世保市\n",
    "# Select(element).select_by_value(\"42204\") #諫早市\n",
    "# Select(element).select_by_value(\"42205\") #大村市\n",
    "time.sleep(1)\n",
    "\n",
    "driver.find_element_by_id(\"ID_ok\").click()\n",
    "time.sleep(1)"
   ]
  },
  {
   "cell_type": "code",
   "execution_count": 76,
   "metadata": {},
   "outputs": [],
   "source": [
    "element = driver.find_element_by_id(\"ID_tDFK2CmbBox\")\n",
    "# Select(element).select_by_value(\"13\") #東京\n",
    "# Select(element).select_by_value(\"40\") #福岡\n",
    "Select(element).select_by_value(\"41\") #佐賀\n",
    "# Select(element).select_by_value(\"42\") #長崎\n",
    "time.sleep(1)"
   ]
  },
  {
   "cell_type": "code",
   "execution_count": 77,
   "metadata": {},
   "outputs": [],
   "source": [
    "buttons = driver.find_elements_by_css_selector(\"input.button\");\n",
    "buttons[2].click()\n",
    "time.sleep(1)"
   ]
  },
  {
   "cell_type": "code",
   "execution_count": 78,
   "metadata": {},
   "outputs": [],
   "source": [
    "element = driver.find_element_by_id(\"ID_rank1CodeMulti\")\n",
    "\n",
    "# 市町村コード\n",
    "# http://www13.plala.or.jp/bigdata/municipal_code_2.html#40\n",
    "# Select(element).select_by_value(\"40131\") #東区\n",
    "# Select(element).select_by_value(\"40132\") #博多区\n",
    "# Select(element).select_by_value(\"40133\") #中央区\n",
    "# Select(element).select_by_value(\"40134\") #南区\n",
    "# Select(element).select_by_value(\"40135\") #西区\n",
    "# Select(element).select_by_value(\"40136\") #城南区\n",
    "# Select(element).select_by_value(\"40137\") #早良区\n",
    "Select(element).select_by_value(\"41201\") #佐賀市\n",
    "Select(element).select_by_value(\"41203\") #鳥栖市\n",
    "# Select(element).select_by_value(\"42202\") #佐世保市\n",
    "# Select(element).select_by_value(\"42204\") #諫早市\n",
    "# Select(element).select_by_value(\"42205\") #大村市\n",
    "time.sleep(1)\n",
    "\n",
    "driver.find_element_by_id(\"ID_ok\").click()\n",
    "time.sleep(1)"
   ]
  },
  {
   "cell_type": "code",
   "execution_count": 79,
   "metadata": {},
   "outputs": [],
   "source": [
    "element = driver.find_element_by_id(\"ID_tDFK3CmbBox\")\n",
    "# Select(element).select_by_value(\"13\") #東京\n",
    "# Select(element).select_by_value(\"40\") #福岡\n",
    "# Select(element).select_by_value(\"41\") #佐賀\n",
    "Select(element).select_by_value(\"42\") #長崎\n",
    "time.sleep(1)"
   ]
  },
  {
   "cell_type": "code",
   "execution_count": 80,
   "metadata": {},
   "outputs": [],
   "source": [
    "buttons = driver.find_elements_by_css_selector(\"input.button\");\n",
    "buttons[3].click()\n",
    "time.sleep(1)"
   ]
  },
  {
   "cell_type": "code",
   "execution_count": 81,
   "metadata": {},
   "outputs": [],
   "source": [
    "element = driver.find_element_by_id(\"ID_rank1CodeMulti\")\n",
    "\n",
    "# 市町村コード\n",
    "# http://www13.plala.or.jp/bigdata/municipal_code_2.html#40\n",
    "# Select(element).select_by_value(\"40131\") #東区\n",
    "# Select(element).select_by_value(\"40132\") #博多区\n",
    "# Select(element).select_by_value(\"40133\") #中央区\n",
    "# Select(element).select_by_value(\"40134\") #南区\n",
    "# Select(element).select_by_value(\"40135\") #西区\n",
    "# Select(element).select_by_value(\"40136\") #城南区\n",
    "# Select(element).select_by_value(\"40137\") #早良区\n",
    "# Select(element).select_by_value(\"41201\") #佐賀市\n",
    "# Select(element).select_by_value(\"41203\") #鳥栖市\n",
    "Select(element).select_by_value(\"42202\") #佐世保市\n",
    "Select(element).select_by_value(\"42204\") #諫早市\n",
    "Select(element).select_by_value(\"42205\") #大村市\n",
    "time.sleep(1)\n",
    "\n",
    "driver.find_element_by_id(\"ID_ok\").click()\n",
    "time.sleep(1)"
   ]
  },
  {
   "cell_type": "code",
   "execution_count": 82,
   "metadata": {},
   "outputs": [],
   "source": [
    "buttons = driver.find_elements_by_css_selector(\"input.button\");\n",
    "buttons[7].click()\n",
    "time.sleep(1)"
   ]
  },
  {
   "cell_type": "code",
   "execution_count": 83,
   "metadata": {},
   "outputs": [],
   "source": [
    "element = driver.find_element_by_id(\"ID_rank00Code\")\n",
    "\n",
    "Select(element).select_by_value(\"B\")\n",
    "\n",
    "driver.find_element_by_id(\"ID_down\").click()\n",
    "time.sleep(1)"
   ]
  },
  {
   "cell_type": "code",
   "execution_count": 84,
   "metadata": {},
   "outputs": [],
   "source": [
    "element = driver.find_element_by_id(\"ID_rank00Code\")\n",
    "\n",
    "Select(element).select_by_value(\"10\")\n",
    "\n",
    "driver.find_element_by_id(\"ID_down\").click()\n",
    "time.sleep(1)"
   ]
  },
  {
   "cell_type": "code",
   "execution_count": 85,
   "metadata": {},
   "outputs": [],
   "source": [
    "element = driver.find_element_by_id(\"ID_rank00Code\")\n",
    "\n",
    "Select(element).select_by_value(\"104\")\n",
    "\n",
    "driver.find_element_by_id(\"ID_down\").click()\n",
    "time.sleep(1)\n",
    "\n",
    "driver.find_element_by_id(\"ID_ok\").click()\n",
    "time.sleep(1)"
   ]
  },
  {
   "cell_type": "code",
   "execution_count": 86,
   "metadata": {},
   "outputs": [],
   "source": [
    "driver.find_element_by_id(\"ID_freeWordRadioBtn0\").click()\n",
    "time.sleep(1)"
   ]
  },
  {
   "cell_type": "code",
   "execution_count": 87,
   "metadata": {},
   "outputs": [],
   "source": [
    "element = driver.find_element_by_id(\"ID_freeWordInput\")\n",
    "\n",
    "element.send_keys(\"Ｐｙｔｈｏｎ　Ｃ＃\")\n",
    "\n",
    "time.sleep(1)"
   ]
  },
  {
   "cell_type": "code",
   "execution_count": 88,
   "metadata": {},
   "outputs": [],
   "source": [
    "driver.find_element_by_id(\"ID_searchBtn\").click()\n",
    "time.sleep(1)"
   ]
  },
  {
   "cell_type": "code",
   "execution_count": 89,
   "metadata": {},
   "outputs": [],
   "source": [
    "soup = BeautifulSoup(driver.page_source, \"html.parser\")"
   ]
  },
  {
   "cell_type": "code",
   "execution_count": 90,
   "metadata": {},
   "outputs": [],
   "source": [
    "jobs = soup.find_all(\"table\", attrs={\"class\": \"kyujin\"})"
   ]
  },
  {
   "cell_type": "code",
   "execution_count": 91,
   "metadata": {},
   "outputs": [],
   "source": [
    "message = \"\"\n",
    "\n",
    "for i, job in enumerate(jobs):\n",
    "    job_name = str(job.find(\"td\", attrs={\"class\": \"m13\"}).text.strip())\n",
    "    salary_tags = job.find_all(\"tr\",attrs={\"class\": \"border_new\"})[5].select(\".disp_inline_block\")\n",
    "    for t, salary_tag  in enumerate(salary_tags):\n",
    "        job_salary = salary_tag.text\n",
    "\n",
    "    job_description = job.find(string='仕事の内容').parent.find_next_sibling().text.replace('\\n', '')\n",
    "    job_location = job.find(string='就業場所').parent.find_next_sibling().text.replace('\\n', '')\n",
    "    message = message + \"■{0} （ {1} ）{2} \\n□{3}\\n\".format(job_name, job_salary, job_location, job_description)"
   ]
  },
  {
   "cell_type": "code",
   "execution_count": 92,
   "metadata": {},
   "outputs": [
    {
     "name": "stdout",
     "output_type": "stream",
     "text": [
      "■システムエンジニア（正） （ 230,000円〜400,000円 ）福岡県福岡市中央区 \n",
      "□Ｗｅｂ・モバイルコンテンツの企画、システム開発、分析、保守、運用サポートＩＯＳ／Ａｎｄｒｏｉｄ向けアプリ開発及びディレクション（自社\n",
      "■ＳＥ及びプログラマー（福岡支社） （ 240,000円〜400,000円 ）福岡県福岡市博多区 \n",
      "□ソフトウエア開発の仕事に従事していただきます。＊業務系・制御系・エンベディト系コンピュータ・ソフトウェアの　設計・製造の作業を行います。\n",
      "■インフラエンジニア◆一部在宅勤務を導入中◆（福岡市） （ 250,000円〜500,000円 ）福岡県福岡市中央区 \n",
      "□インフラ基盤のリプレースに伴うＳＶやＮＷの設計構築フェーズを担当。一部秘匿情報もあり詳細は面談にてお伝え致します。●●●●●　社内写真ご覧ください　●●●●●（コーヒーやお茶\n",
      "■ＪＡＶＡエンジニア◆一部在宅勤務を導入中◆（福岡市） （ 250,000円〜500,000円 ）福岡県福岡市中央区 \n",
      "□Ｃ／Ｓからの新規更改プロジェクトを担当。言語はＪＡＶＡを使用し、基本設計は終わり詳細移行を担当していただきます。●●●●●　社内写真ご覧ください　●●●●●（コーヒーやお茶\n",
      "■Ｐｙｔｈｏｎ開発技術者（正）（経験浅くても可） （ 220,000円〜300,000円 ）福岡県福岡市博多区 \n",
      "□Ｐｙｔｈｏｎを用いたシステム開発に携わっていただきます。担当していただく工程は、現在お持ちのスキルやご希望を考慮した上で決定させていただきますので経験の浅い方やブランクのある方\n",
      "■Ｐｙｔｈｏｎ開発技術者（正）（経験者） （ 300,000円〜400,000円 ）福岡県福岡市博多区 \n",
      "□Ｐｙｔｈｏｎを用いたシステム開発に携わっていただきます。設計～テストまで、現在お持ちのスキルやご希望を考慮した上で決定させていただきます。\n",
      "■Ｃ＃開発エンジニア（正）（経験浅くても可） （ 220,000円〜350,000円 ）福岡県福岡市博多区 \n",
      "□Ｃ＃開発に携わっていただきます。担当していただく工程は、現在お持ちのスキルやご希望を考慮した上で決定させていただきますので経験の浅い方やブランクのある方\n",
      "■ＥＣサイト構築技術者（正）／（経験浅くても可） （ 220,000円〜350,000円 ）福岡県福岡市博多区 \n",
      "□ＥＣサイト構築に携わっていただきます。Ｊａｖａ、Ｃ＃等を用いて設計～開発～テスト等（製造のみ、テストのみも可）を予定しております。\n",
      "■ＥＣサイト構築技術者（正）／（経験者） （ 350,000円〜400,000円 ）福岡県福岡市博多区 \n",
      "□ＥＣサイト構築に携わっていただきます。Ｊａｖａ、Ｃ＃等を用いて設計～テストまでを予定しております。\n",
      "■ＳＥ・プログラマー（正） （ 220,000円〜275,000円 ）福岡県福岡市博多区 \n",
      "□プログラム設計・開発＊受注先での業務あり（福岡市内及び近郊）＊ＪＡＶＡ・Ｃ＃・ＶＢ．ｎｅｔ等の開発言語を使用します\n",
      "■コンピュータ技術者（ＰＧ・ＳＥ）（正） （ 199,000円〜473,000円 ）福岡県福岡市博多区 \n",
      "□ソフトウェア設計・開発・運用・要件定義からアプリケーション開発、ユーザー指導までスキルにあった業務を任せしますＷｅｂ系システム開発（Ｊａｖａ、Ｃ＃．Ｎｅｔ、ＶＢ．Ｎｅｔ、\n",
      "■ソフトウェア開発技術者（ＷＥＢ・オープン系） （ 199,000円〜473,000円 ）福岡県福岡市博多区 \n",
      "□ＪａｖａＳｃｒｉｐｔでのシステム開発Ｃ＋＋、ＶＢ．ｎｅｔ、Ｃ＃．ｎｅｔを使用したプログラムの設計及び作成\n",
      "■ＳＥ（ソフトウェア開発）、ＰＧ（プログラマ）／福岡市 （ 199,000円〜473,000円 ）福岡県福岡市博多区 \n",
      "□・ソフトウェア開発業務　使用言語は、Ｊａｖａ、Ｃ＃、ＲＵＢＹ、ＰＨＰ　使用ＤＢは、　Ｏｒａｃｌｅ、ＳＱＬＳｅｒｖｅｒ\n",
      "■ＳＥ（ソフトウェア開発）、ＰＧ（プログラマ）／福岡市 （ 200,000円〜462,900円 ）福岡県福岡市博多区 \n",
      "□・ソフトウェア開発業務　使用言語は、Ｊａｖａ、Ｃ＃、ＲＵＢＹ、ＰＨＰ　使用ＤＢは、　Ｏｒａｃｌｅ、ＳＱＬＳｅｒｖｅｒ\n",
      "■システムエンジニア（正） （ 250,000円〜450,000円 ）福岡県福岡市博多区 \n",
      "□システム開発【工程】基本設計～詳細設計～プログラミング～テスト【言語】Ｃ＃，Ｃ＋＋、Ｊａｖａ、ＶＢ．Ｎｅｔ等\n",
      "■車載系Ｃ言語システム◆一部在宅勤務を導入中◆（福岡市） （ 250,000円〜500,000円 ）福岡県福岡市中央区 \n",
      "□車載系組込ソフトウェア開発をＣ言語、Ｃ＋＋にて行います。コロナ禍の影響により一部リモート又は時差出勤に切替中。●●●●●　社内写真ご覧ください　●●●●●（コーヒーやお茶\n",
      "■サーバ仮想基盤構築◆一部在宅勤務を導入中◆（福岡市） （ 250,000円〜500,000円 ）福岡県福岡市中央区 \n",
      "□ＷｉｎｄｏｗｓやＬＩＮＵＸサーバの仮想基盤の構築運用フェーズ。コロナ禍の影響により一部リモート又は時差出勤に切替中。●●●●●　社内写真ご覧ください　●●●●●（コーヒーやお茶\n",
      "■ＳＥ／プログラマ（正） （ 250,000円〜400,000円 ）福岡県福岡市博多区 \n",
      "□組込み及び基盤系システム開発各種アプリケーション開発業務系システム開発\n",
      "■システムエンジニア（正） （ 160,000円〜210,000円 ）福岡県福岡市博多区 \n",
      "□■Ｗｅｂシステムを主として業務系のシステム開発を行います　・主に担当する担当する工程は、設計／製造／試験となります　・使用する言語は、Ｊａｖａ／Ｃ／Ｃ＃／ＰＨＰ／ＶＢ／．Ｎｅ\n",
      "■Ｗｅｂ系プログラマー（Ｃ＃）（正） （ 230,000円〜400,000円 ）福岡県福岡市博多区 \n",
      "□【工程】詳細設計～プログラミング～テスト【言語】Ｃ＃【ＤＢ】Ｏｒａｃｌｅ、ＳＱＬＳｅｒｖｅｒ等\n",
      "■ＩＴエンジニア（正） （ 225,000円〜445,000円 ）福岡県福岡市博多区 \n",
      "□オープン、Ｗｅｂ、モバイル系など様々なプロジェクトの要件定義、上流工程から下流工程をスキルに応じてお任せいたします。スキルに合わせて、要件定義や設計などから参加します。\n",
      "■システムエンジニア（金融システム）（正） （ 250,000円〜460,000円 ）福岡県福岡市博多区 \n",
      "□ＷＥＢアプリケーション開発工程：基本設計、詳細設計、プログラミング、テスト言語：Ｃ＃\n",
      "■コンピュータシステム開発（正）／博多区 （ 288,800円〜404,300円 ）福岡県福岡市博多区 \n",
      "□・教員機関向けＷＥＢアプリケーションの開発と操作指導・Ｊａｖａフレームワーク・データベースを使用したコンピュータシステムの開発。\n",
      "■ＡＷＳ環境／システム◆一部在宅勤務を導入中◆（福岡市） （ 250,000円〜500,000円 ）福岡県福岡市中央区 \n",
      "□ＡＷＳサーバ上でのＷＥＢアプリ開発。言語はＪＡＶＡ，Ｐｙｔｈｏｎ等。フェーズは基本設計済み、詳細から開発・テストまで。●●●●●　社内写真ご覧ください　●●●●●（コーヒーやお茶\n",
      "■ＡＷＳインフラ基盤構築◆一部在宅勤務を導入中◆（福岡市） （ 250,000円〜500,000円 ）福岡県福岡市中央区 \n",
      "□ＡｍａｚｏｎＬｉｎｕｘ，アーキテクチャ設計段階からリリース。システムパフォーマンスチューニング。情報セキュリティ構築。●●●●●　社内写真ご覧ください　●●●●●（コーヒーやお茶\n",
      "■アプリケーション開発／中央区 （ 210,000円〜270,000円 ）福岡県福岡市中央区 \n",
      "□◆アプリケーション開発・半導体洗浄装置アプリケーション開発\n",
      "■プログラマー・システムエンジニア（正・経験者） （ 210,000円〜400,000円 ）福岡県福岡市博多区 \n",
      "□官公庁、自治体、流通、医療など、様々な業種向け業務システム開発をご担当いただきます＊プログラム開発・システム開発（言語問わず）\n",
      "■システムエンジニア・プログラマー （ 237,000円〜396,570円 ）福岡県福岡市西区 \n",
      "□・ＪａｖａもしくはＣ＃、．ＮＥＴによる業務システムの開発　－金融、通信、製造、ＷＥＢ等のシステム開発　－上流工程からテストまでの各フェーズを担当\n",
      "■在庫管理システムプログラマー（Ｃ＃）（正） （ 230,000円〜400,000円 ）福岡県福岡市博多区 \n",
      "□在庫管理システムの開発作業【工程】詳細設計～プログラミング～テスト【言語】Ｃ＃\n",
      "■システムエンジニア（Ｃ、Ｃ＋＋、Ｃ＃）／福岡支店 （ 191,500円〜386,000円 ）福岡県福岡市博多区 \n",
      "□Ｃ、Ｃ＋＋、Ｃ＃を使った各種ソフトウェア開発において仕様設計からコーディング、検証、テスト、運用まで担当していただきます。\n",
      "\n"
     ]
    }
   ],
   "source": [
    "print(message)\n",
    "# driver.close()"
   ]
  }
 ],
 "metadata": {
  "kernelspec": {
   "display_name": "Python 3",
   "language": "python",
   "name": "python3"
  },
  "language_info": {
   "codemirror_mode": {
    "name": "ipython",
    "version": 3
   },
   "file_extension": ".py",
   "mimetype": "text/x-python",
   "name": "python",
   "nbconvert_exporter": "python",
   "pygments_lexer": "ipython3",
   "version": "3.7.3"
  }
 },
 "nbformat": 4,
 "nbformat_minor": 4
}
