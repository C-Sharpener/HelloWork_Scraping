{
 "cells": [
  {
   "cell_type": "code",
   "execution_count": 113,
   "metadata": {},
   "outputs": [],
   "source": [
    "# ハローワークの求人情報をスクレイピング（Python + Selenium + Beautiful Soup）\n",
    "\n",
    "from selenium import webdriver\n",
    "from selenium.webdriver.support.ui import Select\n",
    "import time\n",
    "from bs4 import BeautifulSoup\n",
    "import re"
   ]
  },
  {
   "cell_type": "code",
   "execution_count": 114,
   "metadata": {},
   "outputs": [],
   "source": [
    "# ハローワークインターネットサービスのURL\n",
    "url = \"https://www.hellowork.mhlw.go.jp/\"\n",
    "\n",
    "# 以下からご自分で使用しているChromeのバージョンに合ったChromeDriverをダウンロードして下さい\n",
    "# https://chromedriver.chromium.org/downloads\n",
    "\n",
    "# ChromeDriverをご自分のPCの任意の場所に保存して、以下のDRIVER_PATHに設定して下さい。\n",
    "DRIVER_PATH = 'D:\\source\\py\\ChromeWebDriver\\chromedriver_win32\\chromedriver.exe'\n",
    "driver = webdriver.Chrome(executable_path=DRIVER_PATH)\n",
    "driver.get(url)\n",
    "time.sleep(0.5)"
   ]
  },
  {
   "cell_type": "code",
   "execution_count": 115,
   "metadata": {},
   "outputs": [],
   "source": [
    "# 「求人情報検索」をクリック\n",
    "driver.find_element_by_class_name(\"retrieval_icn\").click()\n",
    "time.sleep(0.5)"
   ]
  },
  {
   "cell_type": "code",
   "execution_count": 116,
   "metadata": {},
   "outputs": [],
   "source": [
    "# 福岡県内で探す\n",
    "element = driver.find_element_by_id(\"ID_tDFK1CmbBox\")\n",
    "Select(element).select_by_value(\"40\") #福岡\n",
    "time.sleep(0.5)"
   ]
  },
  {
   "cell_type": "code",
   "execution_count": 117,
   "metadata": {},
   "outputs": [],
   "source": [
    "# 「市区町村」を選ぶために「選択」をクリック\n",
    "buttons = driver.find_elements_by_css_selector(\"input.button\");\n",
    "buttons[1].click()\n",
    "time.sleep(0.5)"
   ]
  },
  {
   "cell_type": "code",
   "execution_count": 118,
   "metadata": {
    "scrolled": true
   },
   "outputs": [],
   "source": [
    "# 市区町村名のドロップダウンリストを選択\n",
    "element = driver.find_element_by_id(\"ID_rank1CodeMulti\")\n",
    "\n",
    "# 【東日本】市区町村名コード(5桁・6桁)一覧（更新：2019.9.15）\n",
    "# http://www13.plala.or.jp/bigdata/municipal_code_1.html\n",
    "\n",
    "# 【西日本】市区町村名コード(5桁・6桁)一覧（更新：2019.9.15）\n",
    "# http://www13.plala.or.jp/bigdata/municipal_code_2.html\n",
    "\n",
    "# 市区町村名コードを基に、5つまで市区町村名を選択\n",
    "Select(element).select_by_value(\"40131\") #東区\n",
    "Select(element).select_by_value(\"40132\") #博多区\n",
    "Select(element).select_by_value(\"40133\") #中央区\n",
    "Select(element).select_by_value(\"40134\") #南区\n",
    "Select(element).select_by_value(\"40135\") #西区\n",
    "time.sleep(0.5)\n",
    "\n",
    "# OKをクリック\n",
    "driver.find_element_by_id(\"ID_ok\").click()\n",
    "time.sleep(0.5)"
   ]
  },
  {
   "cell_type": "code",
   "execution_count": 119,
   "metadata": {},
   "outputs": [],
   "source": [
    "# 佐賀県内で探す\n",
    "element = driver.find_element_by_id(\"ID_tDFK2CmbBox\")\n",
    "Select(element).select_by_value(\"41\") #佐賀\n",
    "time.sleep(0.5)"
   ]
  },
  {
   "cell_type": "code",
   "execution_count": 120,
   "metadata": {},
   "outputs": [],
   "source": [
    "# 「市区町村」を選ぶために「選択」をクリック\n",
    "buttons = driver.find_elements_by_css_selector(\"input.button\");\n",
    "buttons[2].click()\n",
    "time.sleep(0.5)"
   ]
  },
  {
   "cell_type": "code",
   "execution_count": 121,
   "metadata": {},
   "outputs": [],
   "source": [
    "# 市区町村名のドロップダウンリストを選択\n",
    "element = driver.find_element_by_id(\"ID_rank1CodeMulti\")\n",
    "\n",
    "# 市区町村名コードを基に、5つまで市区町村名を選択\n",
    "Select(element).select_by_value(\"41201\") #佐賀市\n",
    "Select(element).select_by_value(\"41203\") #鳥栖市\n",
    "time.sleep(0.5)\n",
    "\n",
    "# OKをクリック\n",
    "driver.find_element_by_id(\"ID_ok\").click()\n",
    "time.sleep(0.5)"
   ]
  },
  {
   "cell_type": "code",
   "execution_count": 122,
   "metadata": {},
   "outputs": [],
   "source": [
    "# 長崎県内で探す\n",
    "element = driver.find_element_by_id(\"ID_tDFK3CmbBox\")\n",
    "Select(element).select_by_value(\"42\") #長崎\n",
    "time.sleep(0.5)"
   ]
  },
  {
   "cell_type": "code",
   "execution_count": 123,
   "metadata": {},
   "outputs": [],
   "source": [
    "# 「市区町村」を選ぶために「選択」をクリック\n",
    "buttons = driver.find_elements_by_css_selector(\"input.button\");\n",
    "buttons[3].click()\n",
    "time.sleep(1)"
   ]
  },
  {
   "cell_type": "code",
   "execution_count": 124,
   "metadata": {},
   "outputs": [],
   "source": [
    "# 市区町村名のドロップダウンリストを選択\n",
    "element = driver.find_element_by_id(\"ID_rank1CodeMulti\")\n",
    "\n",
    "# 市区町村名コードを基に、5つまで市区町村名を選択\n",
    "Select(element).select_by_value(\"42202\") #佐世保市\n",
    "Select(element).select_by_value(\"42204\") #諫早市\n",
    "Select(element).select_by_value(\"42205\") #大村市\n",
    "time.sleep(0.5)\n",
    "\n",
    "# 「OK」をクリック\n",
    "driver.find_element_by_id(\"ID_ok\").click()\n",
    "time.sleep(1)"
   ]
  },
  {
   "cell_type": "code",
   "execution_count": 125,
   "metadata": {},
   "outputs": [],
   "source": [
    "# 「職業分類を選択」をクリック\n",
    "buttons = driver.find_elements_by_css_selector(\"input.button\");\n",
    "buttons[7].click()\n",
    "time.sleep(0.5)"
   ]
  },
  {
   "cell_type": "code",
   "execution_count": 126,
   "metadata": {},
   "outputs": [],
   "source": [
    "# 「職業分類」のドロップダウンリストを選択\n",
    "element = driver.find_element_by_id(\"ID_rank00Code\")\n",
    "\n",
    "# 「B 専門的・技術的職業」を選択\n",
    "Select(element).select_by_value(\"B\")\n",
    "\n",
    "# 「下位」をクリック\n",
    "driver.find_element_by_id(\"ID_down\").click()\n",
    "time.sleep(1)"
   ]
  },
  {
   "cell_type": "code",
   "execution_count": 127,
   "metadata": {},
   "outputs": [],
   "source": [
    "# 「下位」のドロップダウンリストを選択\n",
    "element = driver.find_element_by_id(\"ID_rank00Code\")\n",
    "\n",
    "# 「10 情報処理・通信技術者」を選択\n",
    "Select(element).select_by_value(\"10\")\n",
    "\n",
    "# 「下位」をクリック\n",
    "driver.find_element_by_id(\"ID_down\").click()\n",
    "time.sleep(1)"
   ]
  },
  {
   "cell_type": "code",
   "execution_count": 128,
   "metadata": {},
   "outputs": [],
   "source": [
    "# 「下位」のドロップダウンリストを選択\n",
    "element = driver.find_element_by_id(\"ID_rank00Code\")\n",
    "\n",
    "# 「104 ソフトウェア開発技術者」を選択\n",
    "Select(element).select_by_value(\"104\")\n",
    "\n",
    "# 「下位」をクリック\n",
    "driver.find_element_by_id(\"ID_down\").click()\n",
    "time.sleep(0.5)\n",
    "\n",
    "# 「10401 ソフトウェア開発技術者（WEB・オープン系）」が既に選択されているので、「決定」をクリック\n",
    "driver.find_element_by_id(\"ID_ok\").click()\n",
    "time.sleep(1)"
   ]
  },
  {
   "cell_type": "code",
   "execution_count": 129,
   "metadata": {},
   "outputs": [],
   "source": [
    "# 「フリーワード」の「OR検索」ラジオボタンをクリック\n",
    "driver.find_element_by_id(\"ID_freeWordRadioBtn0\").click()\n",
    "time.sleep(0.5)"
   ]
  },
  {
   "cell_type": "code",
   "execution_count": 130,
   "metadata": {},
   "outputs": [],
   "source": [
    "# 「フリーワード」の入力欄をクリック\n",
    "element = driver.find_element_by_id(\"ID_freeWordInput\")\n",
    "\n",
    "# 「フリーワード」の入力欄に\"Ｐｙｔｈｏｎ　Ｃ＃\"と入力（注意：全角文字で入力すること！）\n",
    "element.send_keys(\"Ｐｙｔｈｏｎ　Ｃ＃\")\n",
    "\n",
    "time.sleep(0.5)"
   ]
  },
  {
   "cell_type": "code",
   "execution_count": 131,
   "metadata": {},
   "outputs": [],
   "source": [
    "# 「詳細検索条件」をクリック\n",
    "driver.find_element_by_id(\"ID_searchShosaiBtn\").click()\n",
    "time.sleep(0.5)"
   ]
  },
  {
   "cell_type": "code",
   "execution_count": 132,
   "metadata": {},
   "outputs": [],
   "source": [
    "# 「交代制（シフト制）を含まない」にチェック\n",
    "driver.find_element_by_id(\"ID_LkiboShgJnCKBox1\").click()\n",
    "time.sleep(0.5)\n",
    "\n",
    "# 「裁量労働制を含まない」にチェック\n",
    "\n",
    "driver.find_element_by_id(\"ID_LkiboShgJnCKBox2\").click()\n",
    "time.sleep(0.5)\n",
    "# 「変形労働時間制を含まない」にチェック\n",
    "driver.find_element_by_id(\"ID_LkiboShgJnCKBox3\").click()\n",
    "time.sleep(0.5)"
   ]
  },
  {
   "cell_type": "code",
   "execution_count": 133,
   "metadata": {},
   "outputs": [],
   "source": [
    "# 「派遣・請負を含まない」にチェック\n",
    "driver.find_element_by_id(\"ID_hakenUkeoinCKBox3\").click()\n",
    "time.sleep(0.5)\n",
    "\n",
    "# 「転勤の可能性なし」にチェック\n",
    "driver.find_element_by_id(\"ID_LsonotaCKBox4\").click()\n",
    "time.sleep(0.5)\n",
    "# print(driver.page_source)"
   ]
  },
  {
   "cell_type": "code",
   "execution_count": 134,
   "metadata": {},
   "outputs": [],
   "source": [
    "# 「OK」をクリック\n",
    "driver.find_element_by_id(\"ID_saveCondBtn\").click()\n",
    "time.sleep(0.5)"
   ]
  },
  {
   "cell_type": "code",
   "execution_count": 135,
   "metadata": {},
   "outputs": [],
   "source": [
    "# 「検索」をクリック\n",
    "driver.find_element_by_id(\"ID_searchBtn\").click()\n",
    "time.sleep(0.5)"
   ]
  },
  {
   "cell_type": "code",
   "execution_count": 136,
   "metadata": {},
   "outputs": [],
   "source": [
    "# 「表示件数」ドロップダウンリストをクリック\n",
    "element = driver.find_element_by_id(\"ID_fwListNaviDispBtm\")\n",
    "\n",
    "# 「50件」を選択\n",
    "Select(element).select_by_value(\"50\")\n",
    "time.sleep(0.5)"
   ]
  },
  {
   "cell_type": "code",
   "execution_count": 137,
   "metadata": {},
   "outputs": [],
   "source": [
    "# 今見ているページをBeautifulSoupで解析\n",
    "soup = BeautifulSoup(driver.page_source, \"html.parser\")"
   ]
  },
  {
   "cell_type": "code",
   "execution_count": 138,
   "metadata": {},
   "outputs": [],
   "source": [
    "# 「求人」のテーブルを検索\n",
    "jobs = soup.find_all(\"table\", attrs={\"class\": \"kyujin\"})"
   ]
  },
  {
   "cell_type": "code",
   "execution_count": 139,
   "metadata": {},
   "outputs": [
    {
     "name": "stdout",
     "output_type": "stream",
     "text": [
      "〇  400000\n",
      "〇  500000\n",
      "〇  500000\n",
      "×  300000\n",
      "〇  400000\n",
      "×  350000\n",
      "×  350000\n",
      "〇  400000\n",
      "×  275000\n",
      "〇  473000\n",
      "〇  473000\n",
      "〇  473000\n",
      "〇  462900\n",
      "〇  450000\n",
      "〇  500000\n",
      "〇  500000\n",
      "〇  400000\n",
      "〇  400000\n",
      "〇  445000\n",
      "〇  460000\n",
      "〇  404300\n",
      "〇  500000\n",
      "〇  500000\n",
      "〇  400000\n",
      "〇  400000\n",
      "×  386000\n",
      "〇  500000\n",
      "〇  500000\n",
      "×  330000\n",
      "〇  500000\n",
      "〇  455000\n",
      "〇  455000\n",
      "〇  460000\n",
      "〇  500000\n",
      "〇  450000\n",
      "〇  400000\n",
      "〇  500000\n",
      "〇  500000\n",
      "〇  580000\n",
      "〇  580000\n",
      "×  330000\n",
      "〇  500000\n",
      "〇  500000\n",
      "×  280000\n",
      "×  347000\n",
      "〇  420000\n",
      "〇  500000\n",
      "〇  450000\n",
      "〇  450000\n",
      "〇  462900\n"
     ]
    }
   ],
   "source": [
    "# 検索結果を格納する\"message\"を初期化\n",
    "message = \"\"\n",
    "\n",
    "# 「職種」「月給」「勤務地」「仕事の内容」を取得する\n",
    "for i, job in enumerate(jobs):\n",
    "    job_name = str(job.find(\"td\", attrs={\"class\": \"m13\"}).text.strip())\n",
    "    salary_tags = job.find_all(\"tr\",attrs={\"class\": \"border_new\"})[5].select(\".disp_inline_block\")\n",
    "    for t, salary_tag  in enumerate(salary_tags):\n",
    "        job_salary = salary_tag.text\n",
    "\n",
    "    # 月給の上限の金額を正規表現で抽出\n",
    "    m = re.search('(〜)(\\d{3}),(\\d{3})', job_salary)\n",
    "    highest = int(m.group(2) + m.group(3))\n",
    "    \n",
    "    # 月給の上限の金額が40万円以上だった場合にのみ、\"message\"に格納する\n",
    "    if highest >= 400000:\n",
    "        print(\"〇 \", highest)\n",
    "        job_description = job.find(string='仕事の内容').parent.find_next_sibling().text.replace('\\n', '')\n",
    "        job_location = job.find(string='就業場所').parent.find_next_sibling().text.replace('\\n', '')\n",
    "        message = message + \"■{0} （ {1} ）{2} \\n□{3}\\n\".format(job_name, job_salary, job_location, job_description)\n",
    "    else:\n",
    "         print(\"× \", highest)"
   ]
  },
  {
   "cell_type": "code",
   "execution_count": 140,
   "metadata": {},
   "outputs": [
    {
     "name": "stdout",
     "output_type": "stream",
     "text": [
      "■システムエンジニア（正） （ 230,000円〜400,000円 ）福岡県福岡市中央区 \n",
      "□Ｗｅｂ・モバイルコンテンツの企画、システム開発、分析、保守、運用サポートＩＯＳ／Ａｎｄｒｏｉｄ向けアプリ開発及びディレクション（自社\n",
      "■インフラエンジニア◆一部在宅勤務を導入中◆（福岡市） （ 250,000円〜500,000円 ）福岡県福岡市中央区 \n",
      "□インフラ基盤のリプレースに伴うＳＶやＮＷの設計構築フェーズを担当。一部秘匿情報もあり詳細は面談にてお伝え致します。●●●●●　社内写真ご覧ください　●●●●●（コーヒーやお茶\n",
      "■ＪＡＶＡエンジニア◆一部在宅勤務を導入中◆（福岡市） （ 250,000円〜500,000円 ）福岡県福岡市中央区 \n",
      "□Ｃ／Ｓからの新規更改プロジェクトを担当。言語はＪＡＶＡを使用し、基本設計は終わり詳細移行を担当していただきます。●●●●●　社内写真ご覧ください　●●●●●（コーヒーやお茶\n",
      "■Ｐｙｔｈｏｎ開発技術者（正）（経験者） （ 300,000円〜400,000円 ）福岡県福岡市博多区 \n",
      "□Ｐｙｔｈｏｎを用いたシステム開発に携わっていただきます。設計～テストまで、現在お持ちのスキルやご希望を考慮した上で決定させていただきます。\n",
      "■ＥＣサイト構築技術者（正）／（経験者） （ 350,000円〜400,000円 ）福岡県福岡市博多区 \n",
      "□ＥＣサイト構築に携わっていただきます。Ｊａｖａ、Ｃ＃等を用いて設計～テストまでを予定しております。\n",
      "■コンピュータ技術者（ＰＧ・ＳＥ）（正） （ 199,000円〜473,000円 ）福岡県福岡市博多区 \n",
      "□ソフトウェア設計・開発・運用・要件定義からアプリケーション開発、ユーザー指導までスキルにあった業務を任せしますＷｅｂ系システム開発（Ｊａｖａ、Ｃ＃．Ｎｅｔ、ＶＢ．Ｎｅｔ、\n",
      "■ソフトウェア開発技術者（ＷＥＢ・オープン系） （ 199,000円〜473,000円 ）福岡県福岡市博多区 \n",
      "□ＪａｖａＳｃｒｉｐｔでのシステム開発Ｃ＋＋、ＶＢ．ｎｅｔ、Ｃ＃．ｎｅｔを使用したプログラムの設計及び作成\n",
      "■ＳＥ（ソフトウェア開発）、ＰＧ（プログラマ）／福岡市 （ 199,000円〜473,000円 ）福岡県福岡市博多区 \n",
      "□・ソフトウェア開発業務　使用言語は、Ｊａｖａ、Ｃ＃、ＲＵＢＹ、ＰＨＰ　使用ＤＢは、　Ｏｒａｃｌｅ、ＳＱＬＳｅｒｖｅｒ\n",
      "■ＳＥ（ソフトウェア開発）、ＰＧ（プログラマ）／福岡市 （ 200,000円〜462,900円 ）福岡県福岡市博多区 \n",
      "□・ソフトウェア開発業務　使用言語は、Ｊａｖａ、Ｃ＃、ＲＵＢＹ、ＰＨＰ　使用ＤＢは、　Ｏｒａｃｌｅ、ＳＱＬＳｅｒｖｅｒ\n",
      "■システムエンジニア（正） （ 250,000円〜450,000円 ）福岡県福岡市博多区 \n",
      "□システム開発【工程】基本設計～詳細設計～プログラミング～テスト【言語】Ｃ＃，Ｃ＋＋、Ｊａｖａ、ＶＢ．Ｎｅｔ等\n",
      "■車載系Ｃ言語システム◆一部在宅勤務を導入中◆（福岡市） （ 250,000円〜500,000円 ）福岡県福岡市中央区 \n",
      "□車載系組込ソフトウェア開発をＣ言語、Ｃ＋＋にて行います。コロナ禍の影響により一部リモート又は時差出勤に切替中。●●●●●　社内写真ご覧ください　●●●●●（コーヒーやお茶\n",
      "■サーバ仮想基盤構築◆一部在宅勤務を導入中◆（福岡市） （ 250,000円〜500,000円 ）福岡県福岡市中央区 \n",
      "□ＷｉｎｄｏｗｓやＬＩＮＵＸサーバの仮想基盤の構築運用フェーズ。コロナ禍の影響により一部リモート又は時差出勤に切替中。●●●●●　社内写真ご覧ください　●●●●●（コーヒーやお茶\n",
      "■ＳＥ／プログラマ（正） （ 250,000円〜400,000円 ）福岡県福岡市博多区 \n",
      "□組込み及び基盤系システム開発各種アプリケーション開発業務系システム開発\n",
      "■Ｗｅｂ系プログラマー（Ｃ＃）（正） （ 230,000円〜400,000円 ）福岡県福岡市博多区 \n",
      "□【工程】詳細設計～プログラミング～テスト【言語】Ｃ＃【ＤＢ】Ｏｒａｃｌｅ、ＳＱＬＳｅｒｖｅｒ等\n",
      "■ＩＴエンジニア（正） （ 225,000円〜445,000円 ）福岡県福岡市博多区 \n",
      "□オープン、Ｗｅｂ、モバイル系など様々なプロジェクトの要件定義、上流工程から下流工程をスキルに応じてお任せいたします。スキルに合わせて、要件定義や設計などから参加します。\n",
      "■システムエンジニア（金融システム）（正） （ 250,000円〜460,000円 ）福岡県福岡市博多区 \n",
      "□ＷＥＢアプリケーション開発工程：基本設計、詳細設計、プログラミング、テスト言語：Ｃ＃\n",
      "■コンピュータシステム開発（正）／博多区 （ 288,800円〜404,300円 ）福岡県福岡市博多区 \n",
      "□・教員機関向けＷＥＢアプリケーションの開発と操作指導・Ｊａｖａフレームワーク・データベースを使用したコンピュータシステムの開発。\n",
      "■ＡＷＳ環境／システム◆一部在宅勤務を導入中◆（福岡市） （ 250,000円〜500,000円 ）福岡県福岡市中央区 \n",
      "□ＡＷＳサーバ上でのＷＥＢアプリ開発。言語はＪＡＶＡ，Ｐｙｔｈｏｎ等。フェーズは基本設計済み、詳細から開発・テストまで。●●●●●　社内写真ご覧ください　●●●●●（コーヒーやお茶\n",
      "■ＡＷＳインフラ基盤構築◆一部在宅勤務を導入中◆（福岡市） （ 250,000円〜500,000円 ）福岡県福岡市中央区 \n",
      "□ＡｍａｚｏｎＬｉｎｕｘ，アーキテクチャ設計段階からリリース。システムパフォーマンスチューニング。情報セキュリティ構築。●●●●●　社内写真ご覧ください　●●●●●（コーヒーやお茶\n",
      "■プログラマー・システムエンジニア（正・経験者） （ 210,000円〜400,000円 ）福岡県福岡市博多区 \n",
      "□官公庁、自治体、流通、医療など、様々な業種向け業務システム開発をご担当いただきます＊プログラム開発・システム開発（言語問わず）\n",
      "■在庫管理システムプログラマー（Ｃ＃）（正） （ 230,000円〜400,000円 ）福岡県福岡市博多区 \n",
      "□在庫管理システムの開発作業【工程】詳細設計～プログラミング～テスト【言語】Ｃ＃\n",
      "■ＯＡヘルプデスク◆一部在宅勤務を導入中◆（福岡市） （ 250,000円〜500,000円 ）福岡県福岡市中央区 \n",
      "□システム導入先のクライアントからのインフラメンテナンス、ＯＡや端末のヘルプデスク対応等を現地又はリモートで行います。●●●●●　社内写真ご覧ください　●●●●●（コーヒーやお茶\n",
      "■ＷＥＢ系エンジニア◆一部在宅勤務を導入中◆（福岡市） （ 250,000円〜500,000円 ）福岡県福岡市中央区 \n",
      "□ＷＥＢシステムのフロントエンド、サーバサイドの開発をアジャイルで実施。ＲｅａｃｔやＶｕｅＪＳ等を使用する予定。●●●●●　社内写真ご覧ください　●●●●●（コーヒーやお茶\n",
      "■Ｋｏｔｌｉｎ開発◆一部在宅勤務を導入中◆（福岡市） （ 250,000円〜500,000円 ）福岡県福岡市中央区 \n",
      "□ＢｔｏＢ向け取引システム。Ｇｉｔ、ＲＨＥＬ、Ａｎｄｒｏｉｄ、Ａｌａｍｏｆｉｒｅ、Ｒｅａｌｍ等使用。ＭＶＶＭモデル実装●●●●●　社内写真ご覧ください　●●●●●（コーヒーやお茶\n",
      "■システムエンジニア　【詳細設計】（正） （ 305,000円〜455,000円 ）福岡県福岡市博多区 \n",
      "□金融系（銀行やクレジット系）や公共系（各種自治体等）のシステム開発、社内機関系システムに従事し、制度改正に伴う仕様変更や機能追加及び新規機能追加などの詳細設計工程の業務を行って頂き\n",
      "■システムプログラマー【基本設計】（正） （ 230,000円〜455,000円 ）福岡県福岡市博多区 \n",
      "□金融系（銀行やクレジット系）や公共系（各種自治体等）のシステム開発、社内機関系システムに従事し、制度改正に伴う仕様変更や機能追加及び新規機能追加などの基本設計工程の業務を行って頂き\n",
      "■システムエンジニア（Ｃ＃）（正） （ 250,000円〜460,000円 ）福岡県福岡市博多区 \n",
      "□金融システムの設計／開発工程：設計、製造、テスト言語：Ｃ＃、ＳＱＬ\n",
      "■システムエンジニア（正） （ 240,000円〜500,000円 ）福岡県福岡市博多区 \n",
      "□ソフトウェアの設計及び開発＊．ＮＥＴ、Ｊａｖａ、ＰＨＰ、Ｃ＃、ＰＬ／ＳＱＬ等\n",
      "■Ｗｅｂ系スマホシステム開発（正） （ 200,000円〜450,000円 ）福岡県福岡市博多区 \n",
      "□（内容）Ｗｅｂ・オープン系ソフト設計開発　　　　Ｗｅｂ系スマホ上で動作するシステム開発など（言語）Ｊａｖａ、Ｃ＃、．ＮＥＴ\n",
      "■プログラマー（正） （ 230,000円〜400,000円 ）福岡県福岡市博多区 \n",
      "□システム開発・改修【工程】製造～テスト【言語】Ｃ＃、Ｃ＋＋、Ｊａｖａ、ＶＢ．Ｎｅｔ等\n",
      "■ＶＢ．ＮＥＴエンニア◆一部在宅勤務を導入中◆（福岡市） （ 250,000円〜500,000円 ）福岡県福岡市中央区 \n",
      "□ＶＢ．ＮＥＴ（ＡＳＰ）での設計開発、ＷＥＢシステム（特に画面周り）。テレワークと平行して開発運用を実施しています●●●●●　社内写真ご覧ください　●●●●●（コーヒーやお茶\n",
      "■サーバ運用保守◆◆一部在宅勤務を導入中◆（福岡市） （ 250,000円〜500,000円 ）福岡県福岡市中央区 \n",
      "□基盤の運用保守。Ｗｉｎｄｏｗｓ、Ｌｉｎｕｘサーバ。ＡＤ／ＤＮＳ／ＤＨＣＰ／ＷＳＵＳの操作設定。未経験はＯＪＴから。●●●●●　社内写真ご覧ください　●●●●●（コーヒーやお茶\n",
      "■ソフトウエアエンジニア（正） （ 202,000円〜580,000円 ）福岡県福岡市博多区 \n",
      "□下記の業務及び言語における経験者、もしくは向上心のあるエンジニアの求人です。\n",
      "■ソフトウェアエンジニア（正） （ 202,000円〜580,000円 ）福岡県福岡市博多区 \n",
      "□下記の業務及び言語における経験者、もしくは向上心のあるエンジニアの求人です。\n",
      "■アプリケーション開発／福岡 （ 220,000円〜500,000円 ）福岡県福岡市博多区 \n",
      "□■仕様書に元づき実装（プログラミング）して頂きます。以下のｋｅｙｗｏｒｄに１つでもあてはまれば大丈夫です。言語（Ｃ／Ｃ＋＋、Ｊａｖａ、Ｐｙｔｈｏｎ、ＰＨＰ、Ｐｅｒｌ、\n",
      "■ＰＨＰサーバサイド◆◆一部在宅勤務を導入中◆（福岡市） （ 250,000円〜500,000円 ）福岡県福岡市中央区 \n",
      "□ＰＨＰ，Ｌａｒａｖｅｌ、ＶｕｅＪＳ、Ｖｕｅｔｉｆｙ等を使用。ＷＥＢ－ＤＢ連携システムの開発。未経験でもＯＪＴで教育。●●●●●　社内写真ご覧ください　●●●●●（コーヒーやお茶\n",
      "■Ｗｅｂ開発システム開発エンジニア （ 280,000円〜420,000円 ）福岡県福岡市中央区 \n",
      "□コンピューターソフトの開発・設計言語：Ｊａｖａ，Ｃ＃，．ｎｅｔなど\n",
      "■ＰＭＯエンジニア◆一部在宅勤務を導入中◆（福岡市） （ 250,000円〜500,000円 ）福岡県福岡市中央区 \n",
      "□ＰＭＯとしてプロジェクト推進、分析・改善、品質管理を行います。各部署と連携してセキュリティのレビューも行います。●●●●●　社内写真ご覧ください　●●●●●（コーヒーやお茶\n",
      "■請求管理（Ｃ＃）システムエンジニア（正） （ 250,000円〜450,000円 ）福岡県福岡市博多区 \n",
      "□請求管理業務システムの設計、開発作業【工程】基本設計～詳細設計～プログラミング～テスト【言語】Ｃ＃、ＳＱＬ\n",
      "■ＩｏＴシステム開発技術者（正）／（経験者） （ 300,000円〜450,000円 ）福岡県福岡市博多区 \n",
      "□ＩｏＴシステム開発に携わっていただきます。担当していただく工程は、現在お持ちのスキルやご希望を考慮した上で決定させていただきます。\n",
      "■ＳＥ（ソフトウェア開発）、ＰＧ（プログラマ）／福岡市 （ 200,000円〜462,900円 ）福岡県福岡市博多区 \n",
      "□・ソフトウェア開発業務　使用言語は、Ｊａｖａ、Ｃ＃、ＲＵＢＹ、ＰＨＰ　使用ＤＢは、　Ｏｒａｃｌｅ、ＳＱＬＳｅｒｖｅｒ\n",
      "\n"
     ]
    }
   ],
   "source": [
    "# 検索結果の出力\n",
    "print(message)"
   ]
  },
  {
   "cell_type": "code",
   "execution_count": 141,
   "metadata": {},
   "outputs": [],
   "source": [
    "# 「次へ」をクリックして、次ページを表示する\n",
    "# TODO: 「次へ」がクリックできる限り、以下の表示をループで回す、多分簡単\n",
    "# TODO: CSV形式で保存してもいい\n",
    "driver.find_element_by_name(\"fwListNaviBtnNext\").click()\n",
    "time.sleep(5)"
   ]
  },
  {
   "cell_type": "code",
   "execution_count": 142,
   "metadata": {},
   "outputs": [],
   "source": [
    "# 今見ているページをBeautifulSoupで解析\n",
    "soup = BeautifulSoup(driver.page_source, \"html.parser\")"
   ]
  },
  {
   "cell_type": "code",
   "execution_count": 143,
   "metadata": {},
   "outputs": [],
   "source": [
    "# 「求人」のテーブルを検索\n",
    "jobs = soup.find_all(\"table\", attrs={\"class\": \"kyujin\"})"
   ]
  },
  {
   "cell_type": "code",
   "execution_count": 144,
   "metadata": {},
   "outputs": [
    {
     "name": "stdout",
     "output_type": "stream",
     "text": [
      "〇  500000\n",
      "×  360000\n",
      "×  350000\n",
      "〇  500000\n",
      "〇  500000\n",
      "×  350000\n",
      "〇  500000\n",
      "〇  500000\n",
      "〇  450000\n",
      "〇  580000\n",
      "〇  580000\n",
      "×  260000\n",
      "×  374000\n",
      "×  386000\n",
      "×  250000\n",
      "〇  500000\n",
      "〇  500000\n",
      "〇  500000\n",
      "〇  500000\n",
      "〇  450000\n",
      "〇  450000\n",
      "〇  455000\n",
      "×  251000\n",
      "〇  400000\n",
      "〇  450000\n",
      "×  350000\n",
      "×  310000\n",
      "〇  500000\n",
      "〇  500000\n",
      "〇  400000\n",
      "〇  430000\n"
     ]
    }
   ],
   "source": [
    "# 検索結果を格納する\"message\"を初期化\n",
    "message = \"\"\n",
    "\n",
    "# 「職種」「月給」「勤務地」「仕事の内容」を取得する\n",
    "for i, job in enumerate(jobs):\n",
    "    job_name = str(job.find(\"td\", attrs={\"class\": \"m13\"}).text.strip())\n",
    "    salary_tags = job.find_all(\"tr\",attrs={\"class\": \"border_new\"})[5].select(\".disp_inline_block\")\n",
    "    for t, salary_tag  in enumerate(salary_tags):\n",
    "        job_salary = salary_tag.text\n",
    "\n",
    "    # 月給の上限の金額を正規表現で抽出\n",
    "    m = re.search('(〜)(\\d{3}),(\\d{3})', job_salary)\n",
    "    highest = int(m.group(2) + m.group(3))\n",
    "    \n",
    "    # 月給の上限の金額が40万円以上だった場合にのみ、\"message\"に格納する\n",
    "    if highest >= 400000:\n",
    "        print(\"〇 \", highest)\n",
    "        job_description = job.find(string='仕事の内容').parent.find_next_sibling().text.replace('\\n', '')\n",
    "        job_location = job.find(string='就業場所').parent.find_next_sibling().text.replace('\\n', '')\n",
    "        message = message + \"■{0} （ {1} ）{2} \\n□{3}\\n\".format(job_name, job_salary, job_location, job_description)\n",
    "    else:\n",
    "         print(\"× \", highest)"
   ]
  },
  {
   "cell_type": "code",
   "execution_count": 145,
   "metadata": {
    "scrolled": false
   },
   "outputs": [
    {
     "name": "stdout",
     "output_type": "stream",
     "text": [
      "■Ｃ＃．ｎｅｔ設計開発◆一部在宅勤務を導入中◆（福岡市） （ 250,000円〜500,000円 ）福岡県福岡市中央区 \n",
      "□案内表示画面開発（サーバから受信した情報をＷｉｎＩｏＴで表示する）。Ｔｒｏｎの現行機能をＷｉｎＩｏＴに移植します。●●●●●　社内写真ご覧ください　●●●●●（コーヒーやお茶\n",
      "■自社ＰＫＧインフラ◆◆一部在宅勤務を導入中◆◆（福岡市） （ 250,000円〜500,000円 ）福岡県福岡市中央区 \n",
      "□自社ＰＫＧであるチャイルドノートのオンプレからクラウド移行。ＭＳＡｚｕｒｅに組み替える可能性アリ。サーバ設計から。●●●●●　社内写真ご覧ください　●●●●●（コーヒーやお茶\n",
      "■ＷＥＢシステム基盤◆◆一部在宅勤務を導入中◆◆（福岡市） （ 250,000円〜500,000円 ）福岡県福岡市中央区 \n",
      "□動画配信ＷＥＢシステムの開発。アクセスユーザー数は限定されるが、セキュリティの構築等、設計テスト段階から行います。●●●●●　社内写真ご覧ください　●●●●●（コーヒーやお茶\n",
      "■仮想環境サーバ構築◆◆一部在宅勤務を導入中◆◆（福岡市） （ 250,000円〜500,000円 ）福岡県福岡市中央区 \n",
      "□仮想サーバ（ＶＭｗａｒｅ、ｖＳｐｈｅｒｅ、ＡＷＳ）における運用保守・構築をお任せします。その他ＣｉｔｒｉｘＶＤＩ有り●●●●●　社内写真ご覧ください　●●●●●（コーヒーやお茶\n",
      "■フロントエンド技術◆◆一部在宅勤務を導入中◆◆（福岡市） （ 250,000円〜500,000円 ）福岡県福岡市中央区 \n",
      "□フロントエンドを中心にデザインデータからコンポーネント設計し、バックエンドとの通信処理やＵＩ、インタラクションを実装●●●●●　社内写真ご覧ください　●●●●●（コーヒーやお茶\n",
      "■システムエンジニア・プログラマー（正） （ 210,000円〜450,000円 ）福岡県福岡市博多区 \n",
      "□Ｊａｖａ・ＡＳＰ等Ｗｅｂ業務系システム・アプリケーション開発制御系システム・アプリケーション開発\n",
      "■プログラマー（正）（在宅勤務可） （ 202,000円〜580,000円 ）福岡県福岡市博多区 \n",
      "□向上心のあるエンジニアの求人です。＊業務内容：業務系ソフト開発\n",
      "■システムエンジニア（正） （ 202,000円〜580,000円 ）福岡県福岡市博多区 \n",
      "□下記の業務及び言語における上流工程経験者、もしくは向上心のあるエンジニアの求人です。\n",
      "■ＪＡＶＡプログラマ◆◆一部在宅勤務を導入中◆◆（福岡市） （ 250,000円〜500,000円 ）福岡県福岡市中央区 \n",
      "□次期経理システム開発（Ｊａｖａ、Ｓｐｒｉｎｇ、Ｊｕｎｉｔ、ＪＳＯＮ，ＳＯＡＰ）など。経験なくても先行してＯＪＴで教育。●●●●●　社内写真ご覧ください　●●●●●（コーヒーやお茶\n",
      "■ネットワーク技術者◆一部在宅勤務を導入中◆（福岡市） （ 250,000円〜500,000円 ）福岡県福岡市中央区 \n",
      "□インフラのクラウド化対応。開発環境と情報コミュニティ環境の設計・構築～運用。上流から入りますが、ＯＪＴで教育します。●●●●●　社内写真ご覧ください　●●●●●（コーヒーやお茶\n",
      "■ＳＡＰ／ＥＲＰコンサル◆一部在宅勤務を導入中◆（福岡市） （ 250,000円〜500,000円 ）福岡県福岡市中央区 \n",
      "□製造業向けＳ／４グローバル新規導入。ＳＣＭ領域の規格構想フェーズの業務要件定義。ＰＰの導入。生産計画・生産管理など。●●●●●　社内写真ご覧ください　●●●●●（コーヒーやお茶\n",
      "■Ｐｙｔｈｏｎ／Ｂｏｔ◆一部在宅勤務を導入中◆（福岡市） （ 250,000円〜500,000円 ）福岡県福岡市中央区 \n",
      "□Ｐｙｔｈｏｎ、Ｔｙｐｅｓｃｒｉｐｔ、ＰｏｓｔｇｒｅＳＱＬ、Ｄｊａｎｇｏ，ＶｕｅＪＰ。分析エンジンはＪＡＶＡを使用。●●●●●　社内写真ご覧ください　●●●●●（コーヒーやお茶\n",
      "■在庫管理システム（Ｃ＃）システムエンジニア（正） （ 250,000円〜450,000円 ）福岡県福岡市博多区 \n",
      "□在庫管理システムの開発【工程】基本設計～詳細設計～プログラミング～テスト【言語】Ｃ＃、ＳＱＬ\n",
      "■プログラマー・システムエンジニア（業務系）（正） （ 200,000円〜450,000円 ）福岡県福岡市中央区 \n",
      "□○業務系システムの開発各案件ごとのシステムカスタマイズ、または新規構築作業。官公庁・営放系の様々な御案件\n",
      "■システムエンジニア・プログラマー【ＰＬ候補】／天神 （ 268,000円〜455,000円 ）福岡県福岡市中央区 \n",
      "□・オープン系システム開発・大規模基幹システム開発における設計開発テスト・Ｗｅｂ系システム開発\n",
      "■システムエンジニア、プログラマー（正） （ 200,000円〜400,000円 ）福岡県福岡市博多区 \n",
      "□・各業種におけるシステム開発　Ｗｉｎｄｏｗｓ，Ｕｎｉｘ、Ｌｉｎｕｘ上での　オープン系システム開発\n",
      "■Ｃ＃開発技術者（正）（経験者） （ 350,000円〜450,000円 ）福岡県福岡市博多区 \n",
      "□Ｃ＃開発に携わっていただきます。担当していただく工程は、現在お持ちのスキルやご希望を考慮した上で決定させていただきます。\n",
      "■ＪＡＶＡシステム開発◆一部在宅勤務を導入中◆（福岡市） （ 250,000円〜500,000円 ）福岡県福岡市中央区 \n",
      "□通信業向けＷＥＢサーバの刷新。サーバ側実装。ＪＡＶＡ，Ｓｐｉｒｉｎｇ、ＰｏｓｔｇｒｅＳＱＬ、ＪＳＰ、ＨＴＭＬなど。●●●●●　社内写真ご覧ください　●●●●●（コーヒーやお茶\n",
      "■物流システム／クラサバ◆一部在宅勤務を導入中◆（福岡市） （ 250,000円〜500,000円 ）福岡県福岡市中央区 \n",
      "□クラサバ系システム（Ｃ＃．ＮＥＴ言語）を担当。開発や詳細設計等の工程を含め、システムＱＡ対応や運用保守も広く行う。●●●●●　社内写真ご覧ください　●●●●●（コーヒーやお茶\n",
      "■請求管理システム（Ｃ＃）プログラマー（正） （ 230,000円〜400,000円 ）福岡県福岡市博多区 \n",
      "□請求管理システムの開発作業・保守作業【言語】　Ｃ＃、ＳＱＬ　他\n",
      "■システムエンジニア・プログラマー（正） （ 141,300円〜430,000円 ）福岡県福岡市博多区 \n",
      "□システムエンジニア製造業、流通業向けソフトウェア開発組込みソフトウェア開発\n",
      "\n"
     ]
    }
   ],
   "source": [
    "# 検索結果の出力\n",
    "print(message)\n",
    "# driver.close()"
   ]
  }
 ],
 "metadata": {
  "kernelspec": {
   "display_name": "Python 3",
   "language": "python",
   "name": "python3"
  },
  "language_info": {
   "codemirror_mode": {
    "name": "ipython",
    "version": 3
   },
   "file_extension": ".py",
   "mimetype": "text/x-python",
   "name": "python",
   "nbconvert_exporter": "python",
   "pygments_lexer": "ipython3",
   "version": "3.7.3"
  }
 },
 "nbformat": 4,
 "nbformat_minor": 4
}
